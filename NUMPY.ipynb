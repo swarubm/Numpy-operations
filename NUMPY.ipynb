{
 "cells": [
  {
   "cell_type": "markdown",
   "id": "c8fa4947-1a68-42bc-9af0-12708d9c258a",
   "metadata": {},
   "source": [
    "# NUMPY"
   ]
  },
  {
   "cell_type": "code",
   "execution_count": 1,
   "id": "70973f95-299f-472c-9d53-63aa7b3f1917",
   "metadata": {},
   "outputs": [
    {
     "name": "stdout",
     "output_type": "stream",
     "text": [
      "Requirement already satisfied: numpy in c:\\users\\swaro\\anaconda3\\lib\\site-packages (1.24.4)\n"
     ]
    }
   ],
   "source": [
    "!pip install numpy"
   ]
  },
  {
   "cell_type": "code",
   "execution_count": 2,
   "id": "a04ea9b3-f616-40db-bbf7-e4fc1b927488",
   "metadata": {},
   "outputs": [],
   "source": [
    " import numpy as np"
   ]
  },
  {
   "cell_type": "code",
   "execution_count": 15,
   "id": "a4f15bc5-3a2f-478f-bae8-907eed802731",
   "metadata": {},
   "outputs": [
    {
     "name": "stdout",
     "output_type": "stream",
     "text": [
      "[1, 2, 3, 4, 5, 6]\n"
     ]
    }
   ],
   "source": [
    "my_list = [1,2,3,4,5,6]\n",
    "print(my_list)"
   ]
  },
  {
   "cell_type": "code",
   "execution_count": 16,
   "id": "2e55011b-11c8-4fd2-98e7-b294d676f242",
   "metadata": {},
   "outputs": [
    {
     "name": "stdout",
     "output_type": "stream",
     "text": [
      "[1 2 3 4 5 6]\n"
     ]
    }
   ],
   "source": [
    "array = np.array(my_list,dtype=int)\n",
    "print(array)"
   ]
  },
  {
   "cell_type": "code",
   "execution_count": 17,
   "id": "69627ffd-c14b-434e-8f23-0631fe4b5204",
   "metadata": {},
   "outputs": [
    {
     "name": "stdout",
     "output_type": "stream",
     "text": [
      "<class 'numpy.ndarray'>\n"
     ]
    }
   ],
   "source": [
    "print(type(array))"
   ]
  },
  {
   "cell_type": "code",
   "execution_count": 18,
   "id": "76c8f111-5ebf-4ed1-9a65-7ab811cc0ea5",
   "metadata": {},
   "outputs": [
    {
     "name": "stdout",
     "output_type": "stream",
     "text": [
      "6\n"
     ]
    }
   ],
   "source": [
    "print(len(array))"
   ]
  },
  {
   "cell_type": "code",
   "execution_count": 19,
   "id": "c887fefa-7f60-4279-aa0e-738e9d602b0b",
   "metadata": {},
   "outputs": [
    {
     "name": "stdout",
     "output_type": "stream",
     "text": [
      "1\n"
     ]
    }
   ],
   "source": [
    "print(array.ndim)"
   ]
  },
  {
   "cell_type": "code",
   "execution_count": 20,
   "id": "01ad2dfd-e66e-4853-aea5-5fc00c80ebba",
   "metadata": {},
   "outputs": [
    {
     "name": "stdout",
     "output_type": "stream",
     "text": [
      "(6,)\n"
     ]
    }
   ],
   "source": [
    "print(array.shape)"
   ]
  },
  {
   "cell_type": "code",
   "execution_count": 21,
   "id": "b0528a17-0fb8-4871-94b1-085d941170cc",
   "metadata": {},
   "outputs": [
    {
     "name": "stdout",
     "output_type": "stream",
     "text": [
      "[[1 2]\n",
      " [3 4]\n",
      " [5 6]]\n"
     ]
    },
    {
     "data": {
      "text/plain": [
       "(3, 2)"
      ]
     },
     "execution_count": 21,
     "metadata": {},
     "output_type": "execute_result"
    }
   ],
   "source": [
    "array2 = array.reshape(3,2)\n",
    "print(array2)"
   ]
  },
  {
   "cell_type": "code",
   "execution_count": 23,
   "id": "e9f0ba30-a558-4015-820a-26d48f8474d1",
   "metadata": {},
   "outputs": [
    {
     "name": "stdout",
     "output_type": "stream",
     "text": [
      "[[1 2]\n",
      " [3 4]\n",
      " [5 6]]\n"
     ]
    },
    {
     "data": {
      "text/plain": [
       "(3, 2)"
      ]
     },
     "execution_count": 23,
     "metadata": {},
     "output_type": "execute_result"
    }
   ],
   "source": [
    "array3 = array.reshape(3,-1)\n",
    "print(array3)"
   ]
  },
  {
   "cell_type": "code",
   "execution_count": 24,
   "id": "c90d0bb5-5feb-4481-85c7-409da9581c65",
   "metadata": {},
   "outputs": [
    {
     "data": {
      "text/plain": [
       "(3, 2)"
      ]
     },
     "execution_count": 24,
     "metadata": {},
     "output_type": "execute_result"
    }
   ],
   "source": [
    "array3.shape"
   ]
  },
  {
   "cell_type": "code",
   "execution_count": 25,
   "id": "c2a85652-346b-4077-9c1d-a2307a38316d",
   "metadata": {},
   "outputs": [],
   "source": [
    "my_list2 = [1,2,3,4,5]\n",
    "my_list3 = [2,3,4,5,6]\n",
    "my_list4 = [9,8,7,6,5]"
   ]
  },
  {
   "cell_type": "code",
   "execution_count": 26,
   "id": "ece45a56-95e8-45b1-a82a-cef504b90dcf",
   "metadata": {},
   "outputs": [
    {
     "name": "stdout",
     "output_type": "stream",
     "text": [
      "[[1 2 3 4 5]\n",
      " [2 3 4 5 6]\n",
      " [9 8 7 6 5]]\n"
     ]
    }
   ],
   "source": [
    "mul_arr = np.array([my_list2,my_list3,my_list4])\n",
    "print(mul_arr)"
   ]
  },
  {
   "cell_type": "code",
   "execution_count": 27,
   "id": "b1619dd3-5bdc-4228-aaf5-0969d680691c",
   "metadata": {},
   "outputs": [
    {
     "name": "stdout",
     "output_type": "stream",
     "text": [
      "(3, 5)\n"
     ]
    }
   ],
   "source": [
    "print(mul_arr.shape)"
   ]
  },
  {
   "cell_type": "code",
   "execution_count": 32,
   "id": "d470b777-f3d1-424e-85ce-8d78c93117b1",
   "metadata": {},
   "outputs": [
    {
     "data": {
      "text/plain": [
       "array([[1, 2, 3, 4, 5, 2, 3, 4, 5, 6, 9, 8, 7, 6, 5]])"
      ]
     },
     "execution_count": 32,
     "metadata": {},
     "output_type": "execute_result"
    }
   ],
   "source": [
    "mul_arr.reshape(1,15)"
   ]
  },
  {
   "cell_type": "markdown",
   "id": "8ebefe43-aee3-4619-818b-a2886a7878b3",
   "metadata": {},
   "source": [
    "#NUMPY ATTRIBUTE"
   ]
  },
  {
   "cell_type": "code",
   "execution_count": 34,
   "id": "e117ad3d-2b65-48eb-b015-ec6ea5bc84b3",
   "metadata": {},
   "outputs": [
    {
     "name": "stdout",
     "output_type": "stream",
     "text": [
      "(2, 3)\n"
     ]
    }
   ],
   "source": [
    "a = np.array([[1,2,3],[4,5,6]])\n",
    "print(a.shape)"
   ]
  },
  {
   "cell_type": "code",
   "execution_count": 39,
   "id": "8338f9d4-a16a-44c9-abf1-8228e8e174da",
   "metadata": {},
   "outputs": [
    {
     "name": "stdout",
     "output_type": "stream",
     "text": [
      "[[1 2]\n",
      " [3 4]\n",
      " [5 6]]\n"
     ]
    }
   ],
   "source": [
    "a.shape = (3,2)\n",
    "print(a)"
   ]
  },
  {
   "cell_type": "code",
   "execution_count": 41,
   "id": "91b1c978-9bda-46fd-8060-1df775462297",
   "metadata": {},
   "outputs": [
    {
     "name": "stdout",
     "output_type": "stream",
     "text": [
      "[[1 2]\n",
      " [3 4]\n",
      " [5 6]]\n"
     ]
    }
   ],
   "source": [
    "b = a.reshape(3,2)\n",
    "print(b)"
   ]
  },
  {
   "cell_type": "code",
   "execution_count": 42,
   "id": "3d3083c6-a71b-43dc-b3a4-772959345b03",
   "metadata": {},
   "outputs": [],
   "source": [
    "r = range(24)"
   ]
  },
  {
   "cell_type": "code",
   "execution_count": 43,
   "id": "5cdf470b-3b96-4b3e-9a01-8097be0e1faa",
   "metadata": {},
   "outputs": [
    {
     "name": "stdout",
     "output_type": "stream",
     "text": [
      "range(0, 24)\n"
     ]
    }
   ],
   "source": [
    "print(r)"
   ]
  },
  {
   "cell_type": "code",
   "execution_count": 45,
   "id": "66926296-4358-49ac-8aa4-f1a2fe20cfb5",
   "metadata": {},
   "outputs": [
    {
     "name": "stdout",
     "output_type": "stream",
     "text": [
      "[ 0  1  2  3  4  5  6  7  8  9 10 11 12 13 14 15 16 17 18 19 20 21 22 23]\n"
     ]
    }
   ],
   "source": [
    "a = np.arange(24)\n",
    "print(a)"
   ]
  },
  {
   "cell_type": "code",
   "execution_count": 46,
   "id": "918e3979-5b62-4c12-9246-5b642b2794f9",
   "metadata": {},
   "outputs": [
    {
     "name": "stdout",
     "output_type": "stream",
     "text": [
      "1\n"
     ]
    }
   ],
   "source": [
    "print(a.ndim)"
   ]
  },
  {
   "cell_type": "code",
   "execution_count": 47,
   "id": "ee0af982-7eed-4b8c-a951-9eee4e3c3493",
   "metadata": {},
   "outputs": [
    {
     "name": "stdout",
     "output_type": "stream",
     "text": [
      "[[[ 0]\n",
      "  [ 1]\n",
      "  [ 2]\n",
      "  [ 3]]\n",
      "\n",
      " [[ 4]\n",
      "  [ 5]\n",
      "  [ 6]\n",
      "  [ 7]]\n",
      "\n",
      " [[ 8]\n",
      "  [ 9]\n",
      "  [10]\n",
      "  [11]]\n",
      "\n",
      " [[12]\n",
      "  [13]\n",
      "  [14]\n",
      "  [15]]\n",
      "\n",
      " [[16]\n",
      "  [17]\n",
      "  [18]\n",
      "  [19]]\n",
      "\n",
      " [[20]\n",
      "  [21]\n",
      "  [22]\n",
      "  [23]]]\n"
     ]
    }
   ],
   "source": [
    "b = a.reshape(6,4,1)\n",
    "print(b)"
   ]
  },
  {
   "cell_type": "markdown",
   "id": "57d97284-b552-4fb0-9889-340a5e363322",
   "metadata": {},
   "source": [
    "#NUMPY ARITHMETIC OPERATION"
   ]
  },
  {
   "cell_type": "code",
   "execution_count": 48,
   "id": "50efa982-4649-4aff-8517-528cb8b9816b",
   "metadata": {},
   "outputs": [
    {
     "name": "stdout",
     "output_type": "stream",
     "text": [
      "[[1. 2.]\n",
      " [3. 4.]]\n",
      "[[6. 7.]\n",
      " [8. 9.]]\n"
     ]
    }
   ],
   "source": [
    "x = np.array([[1,2],[3,4]],dtype = np.float64)\n",
    "y = np.array([[6,7],[8,9]],dtype = np.float64)\n",
    "print(x)\n",
    "print(y)"
   ]
  },
  {
   "cell_type": "markdown",
   "id": "012d3884-ce95-4a64-b5ef-82d0618b2277",
   "metadata": {},
   "source": [
    "#add() b/w 2 np arays"
   ]
  },
  {
   "cell_type": "code",
   "execution_count": 53,
   "id": "3a6a2d81-5abf-44f4-9a0d-2b495ec20f03",
   "metadata": {},
   "outputs": [
    {
     "name": "stdout",
     "output_type": "stream",
     "text": [
      "[[ 7.  9.]\n",
      " [11. 13.]]\n"
     ]
    }
   ],
   "source": [
    "(x+y)\n",
    "print(np.add(x,y))"
   ]
  },
  {
   "cell_type": "markdown",
   "id": "1fd8dc0b-f1c1-452b-a3c5-b0435a4d0a1d",
   "metadata": {},
   "source": [
    "#sub()"
   ]
  },
  {
   "cell_type": "code",
   "execution_count": 51,
   "id": "e5c475ba-a727-498b-bed7-a6c52a3c2b6d",
   "metadata": {},
   "outputs": [
    {
     "name": "stdout",
     "output_type": "stream",
     "text": [
      "[[-5. -5.]\n",
      " [-5. -5.]]\n"
     ]
    }
   ],
   "source": [
    "print(x-y)"
   ]
  },
  {
   "cell_type": "code",
   "execution_count": 54,
   "id": "e41cd9ed-ec0f-4804-9bd8-19dceb0141f3",
   "metadata": {},
   "outputs": [
    {
     "name": "stdout",
     "output_type": "stream",
     "text": [
      "[[22. 25.]\n",
      " [50. 57.]]\n"
     ]
    }
   ],
   "source": [
    "print(x.dot(y))"
   ]
  },
  {
   "cell_type": "code",
   "execution_count": 55,
   "id": "00f395e6-16f7-4989-abe3-94bea64129c3",
   "metadata": {},
   "outputs": [
    {
     "name": "stdout",
     "output_type": "stream",
     "text": [
      "[[22. 25.]\n",
      " [50. 57.]]\n"
     ]
    }
   ],
   "source": [
    "print(np.dot(x,y))"
   ]
  },
  {
   "cell_type": "code",
   "execution_count": 56,
   "id": "d66379a0-da54-40f5-9a04-883ede39eceb",
   "metadata": {},
   "outputs": [
    {
     "name": "stdout",
     "output_type": "stream",
     "text": [
      "[[0.16666667 0.28571429]\n",
      " [0.375      0.44444444]]\n"
     ]
    }
   ],
   "source": [
    "print(x/y)"
   ]
  },
  {
   "cell_type": "markdown",
   "id": "b784bab9-55c8-4913-9688-0a9982ce2d33",
   "metadata": {},
   "source": [
    "#numpy sum()"
   ]
  },
  {
   "cell_type": "code",
   "execution_count": 57,
   "id": "3d53d336-adc3-4e0d-aed3-12af453ea857",
   "metadata": {},
   "outputs": [
    {
     "name": "stdout",
     "output_type": "stream",
     "text": [
      "10.0\n",
      "[[1. 2.]\n",
      " [3. 4.]]\n"
     ]
    }
   ],
   "source": [
    "print(np.sum(x))\n",
    "print(x)"
   ]
  },
  {
   "cell_type": "code",
   "execution_count": 58,
   "id": "975560b6-baa6-4e34-a04a-6e93fa7a3a6f",
   "metadata": {},
   "outputs": [
    {
     "name": "stdout",
     "output_type": "stream",
     "text": [
      "[4. 6.]\n"
     ]
    }
   ],
   "source": [
    "print(np.sum(x,axis=0))  #compute sum of column"
   ]
  },
  {
   "cell_type": "code",
   "execution_count": 59,
   "id": "be0ca9cc-7f23-41e2-876c-eaaaab58d4c1",
   "metadata": {},
   "outputs": [
    {
     "name": "stdout",
     "output_type": "stream",
     "text": [
      "[3. 7.]\n"
     ]
    }
   ],
   "source": [
    "print(np.sum(x,axis=1)) #compute sum of row"
   ]
  },
  {
   "cell_type": "code",
   "execution_count": null,
   "id": "635be2b3-ab39-4cb3-acd1-3fd8bf1b1422",
   "metadata": {},
   "outputs": [],
   "source": []
  }
 ],
 "metadata": {
  "kernelspec": {
   "display_name": "Python 3 (ipykernel)",
   "language": "python",
   "name": "python3"
  },
  "language_info": {
   "codemirror_mode": {
    "name": "ipython",
    "version": 3
   },
   "file_extension": ".py",
   "mimetype": "text/x-python",
   "name": "python",
   "nbconvert_exporter": "python",
   "pygments_lexer": "ipython3",
   "version": "3.11.7"
  }
 },
 "nbformat": 4,
 "nbformat_minor": 5
}
